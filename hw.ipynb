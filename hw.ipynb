{
 "cells": [
  {
   "cell_type": "code",
   "execution_count": 20,
   "metadata": {},
   "outputs": [
    {
     "name": "stdout",
     "output_type": "stream",
     "text": [
      "RMSE: 0.90\n"
     ]
    }
   ],
   "source": [
    "import numpy as np\n",
    "import pandas as pd\n",
    "import seaborn as sns\n",
    "from sklearn.model_selection import train_test_split\n",
    "from sklearn.linear_model import LinearRegression\n",
    "from sklearn.metrics import mean_squared_error\n",
    "\n",
    "data = sns.load_dataset(\"tips\")\n",
    "data['time'] = data['time'].apply(lambda x: 1 if x == 'Dinner' else 0)\n",
    "data['sex'] = data['sex'].apply(lambda x: 1 if x == 'Male' else 0)\n",
    "data['smoker'] = data['smoker'].apply(lambda x: 1 if x == 'Yes' else 0)\n",
    "day_dummies = pd.get_dummies(data['day'], prefix='day', drop_first=True)\n",
    "data = pd.concat([data, day_dummies], axis=1)\n",
    "data = data.drop(['day'], axis=1)\n",
    "X = data.drop(\"tip\", axis=1)\n",
    "y = data[\"tip\"]\n",
    "X_train, X_test, y_train, y_test = train_test_split(X, y, test_size=0.2, random_state=30)\n",
    "model = LinearRegression()\n",
    "model.fit(X_train, y_train)\n",
    "y_pred = model.predict(X_test)\n",
    "rmse = np.sqrt(mean_squared_error(y_test, y_pred))\n",
    "print(f\"RMSE: {rmse:.2f}\")\n"
   ]
  }
 ],
 "metadata": {
  "kernelspec": {
   "display_name": "Python 3",
   "language": "python",
   "name": "python3"
  },
  "language_info": {
   "codemirror_mode": {
    "name": "ipython",
    "version": 3
   },
   "file_extension": ".py",
   "mimetype": "text/x-python",
   "name": "python",
   "nbconvert_exporter": "python",
   "pygments_lexer": "ipython3",
   "version": "3.12.0"
  }
 },
 "nbformat": 4,
 "nbformat_minor": 2
}
